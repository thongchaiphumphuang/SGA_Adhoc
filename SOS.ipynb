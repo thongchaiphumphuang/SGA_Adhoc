{
  "nbformat": 4,
  "nbformat_minor": 0,
  "metadata": {
    "colab": {
      "provenance": [],
      "authorship_tag": "ABX9TyPH0Kt1d/bcs+XdNIYWpuet",
      "include_colab_link": true
    },
    "kernelspec": {
      "name": "python3",
      "display_name": "Python 3"
    },
    "language_info": {
      "name": "python"
    }
  },
  "cells": [
    {
      "cell_type": "markdown",
      "metadata": {
        "id": "view-in-github",
        "colab_type": "text"
      },
      "source": [
        "<a href=\"https://colab.research.google.com/github/thongchaiphumphuang/SGA_Adhoc/blob/main/SOS.ipynb\" target=\"_parent\"><img src=\"https://colab.research.google.com/assets/colab-badge.svg\" alt=\"Open In Colab\"/></a>"
      ]
    },
    {
      "cell_type": "code",
      "source": [
        "import pandas as pd\n",
        "import gspread\n",
        "from oauth2client.client import GoogleCredentials\n",
        "from google.colab import auth\n",
        "auth.authenticate_user()\n",
        "\n",
        "from google.auth import default\n",
        "creds, _ = default()\n",
        "\n",
        "gc = gspread.authorize(creds)"
      ],
      "metadata": {
        "id": "mZnqiiqBvY16"
      },
      "execution_count": null,
      "outputs": []
    },
    {
      "cell_type": "code",
      "source": [
        "## read data from spreadsheets\n",
        "def read_data(sheet_name, worksheet_name):\n",
        "\n",
        "  # specify location\n",
        "  ws = ws_loc(sheet_name, worksheet_name)\n",
        "\n",
        "  # read the data\n",
        "  data_values = ws.get_all_values()  # get_all_values() method preserves formatting\n",
        "  df = pd.DataFrame(data_values)\n",
        "  columns_name = df.iloc[0]\n",
        "  df = df.iloc[1:]\n",
        "  df.columns = columns_name\n",
        "  return df"
      ],
      "metadata": {
        "id": "BmzsoR4XvUI8"
      },
      "execution_count": 3,
      "outputs": []
    },
    {
      "cell_type": "code",
      "execution_count": null,
      "metadata": {
        "id": "ae8XsAxSpfC3"
      },
      "outputs": [],
      "source": [
        "som_data = read_data(\"FW3_month_OC_PCP_DataFrame\", \"Value_OC_PCP_Df_Month\")"
      ]
    }
  ]
}